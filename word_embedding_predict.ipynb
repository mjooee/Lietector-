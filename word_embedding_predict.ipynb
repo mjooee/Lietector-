{
  "nbformat": 4,
  "nbformat_minor": 0,
  "metadata": {
    "colab": {
      "provenance": [],
      "mount_file_id": "11S1ZUij-AZCKJ27WGXceu_ury5Mj4kw2",
      "authorship_tag": "ABX9TyNRbvR7ZKQUsLPxzvTkqZar",
      "include_colab_link": true
    },
    "kernelspec": {
      "name": "python3",
      "display_name": "Python 3"
    },
    "language_info": {
      "name": "python"
    }
  },
  "cells": [
    {
      "cell_type": "markdown",
      "metadata": {
        "id": "view-in-github",
        "colab_type": "text"
      },
      "source": [
        "<a href=\"https://colab.research.google.com/github/mjooee/Lietector-/blob/models/word_embedding_predict.ipynb\" target=\"_parent\"><img src=\"https://colab.research.google.com/assets/colab-badge.svg\" alt=\"Open In Colab\"/></a>"
      ]
    },
    {
      "cell_type": "code",
      "source": [
        "#구글 드라이브 마운트\n",
        "\n",
        "from google.colab import drive\n",
        "drive.mount('/content/drive')"
      ],
      "metadata": {
        "colab": {
          "base_uri": "https://localhost:8080/"
        },
        "id": "yXwumI3Q0k1a",
        "outputId": "95e8cbb2-a9e9-4f18-beb9-69fdf836328b"
      },
      "execution_count": null,
      "outputs": [
        {
          "output_type": "stream",
          "name": "stdout",
          "text": [
            "Mounted at /content/drive\n"
          ]
        }
      ]
    },
    {
      "cell_type": "code",
      "execution_count": null,
      "metadata": {
        "id": "uMcFxZfW0euZ"
      },
      "outputs": [],
      "source": [
        "#패키지 연결\n",
        "import os, sys\n",
        "my_path = '/content/package'\n",
        "save_path = '/content/drive/MyDrive/Colab Notebooks/package' ## 패키지가 저장될 경로\n",
        "\n",
        "os.symlink(save_path, my_path)\n",
        "sys.path.insert(0, my_path)"
      ]
    },
    {
      "cell_type": "code",
      "source": [
        "#모델 불러오기\n",
        "from glove import Corpus, Glove\n",
        "\n",
        "model_dir = '/content/drive/MyDrive'\n",
        "glove = Glove.load(model_dir + '/glove.model')"
      ],
      "metadata": {
        "id": "jarNce0_UG2O"
      },
      "execution_count": null,
      "outputs": []
    },
    {
      "cell_type": "code",
      "source": [
        "#입력 문서 전처리\n",
        "\n",
        "import re\n",
        "import pandas as pd\n",
        "import matplotlib.pyplot as plt\n",
        "from konlpy.tag import Okt\n",
        "from tqdm import tqdm\n",
        "\n",
        "#토크나이저\n",
        "okt = Okt()\n",
        "\n",
        "def preprocessing(input_text):\n",
        "  removed_data = []\n",
        "\n",
        "  # 한글 아닌 부분 제거\n",
        "  s = re.sub(\"[^ㄱ-ㅎㅏ-ㅣ가-힣 ]\",\"\", input_text)\n",
        "  if s != '':\n",
        "    removed_data.append(s)\n",
        "\n",
        "  tokenized_data = []\n",
        "  for sentence in tqdm(removed_data):\n",
        "      tokenized_sentence = okt.morphs(sentence, stem = True) # 토큰화\n",
        "  return tokenized_data\n"
      ],
      "metadata": {
        "id": "me5jJu682Hmq"
      },
      "execution_count": null,
      "outputs": []
    },
    {
      "cell_type": "code",
      "source": [
        "#토큰화된 단어 벡터화\n",
        "def to_vec(tokenized_data):\n",
        "  vector_list = []\n",
        "  for token in tokenized_data:\n",
        "    if token == []: continue;\n",
        "    if token in glove.dictionary.keys():\n",
        "      vector_list.append([token, glove.word_vectors[glove.dictionary[token]]])\n",
        "  return vector_list"
      ],
      "metadata": {
        "id": "YPwJBko1ROJf"
      },
      "execution_count": null,
      "outputs": []
    },
    {
      "cell_type": "code",
      "source": [
        "#입력 문서 평균 벡터 구하기\n",
        "def get_document_vec(word_vec_list):\n",
        "  input_vec = None\n",
        "  if word_vec_list is not None:\n",
        "    for word_vec in word_vec_list:\n",
        "      if input_vec is None:\n",
        "        input_vec = word_vec[1]\n",
        "      else:\n",
        "        input_vec = input_vec + word_vec[1]\n",
        "\n",
        "  if input_vec is not None:\n",
        "    input_vec = input_vec / vec_cnt\n",
        "\n",
        "  return input_vec"
      ],
      "metadata": {
        "id": "fOJ7Y27NRUn6"
      },
      "execution_count": null,
      "outputs": []
    },
    {
      "cell_type": "code",
      "source": [
        "#코사인 유사도\n",
        "import numpy as np\n",
        "from numpy import dot\n",
        "from numpy.linalg import norm\n",
        "\n",
        "def cos_sim(A, B):\n",
        "  return dot(A, B)/(norm(A)*norm(B))"
      ],
      "metadata": {
        "id": "_wdTaOK3Rbi4"
      },
      "execution_count": null,
      "outputs": []
    },
    {
      "cell_type": "code",
      "source": [
        "#코사인 유사도 구해서 높은 순서대로 단어와 유사도 출력 -> 단일 문서와 비교 버전\n",
        "def s_cos_word_doc(word_vec_list, doc_vec):\n",
        "  answer = []\n",
        "  for word_vec in word_vec_list:\n",
        "    answer.append([word_vec[0], cos_sim(doc_vec, word_vec[1])])\n",
        "  answer = sorted(answer, key = lambda x: x[1], reverse = True)\n",
        "  return answer"
      ],
      "metadata": {
        "id": "GLlG5_4IReeI"
      },
      "execution_count": null,
      "outputs": []
    },
    {
      "cell_type": "code",
      "source": [
        "#코사인 유사도 구해서 높은 순서대로 단어와 유사도 출력 -> 복수 문서와 비교 버전\n",
        "def m_cos_word_doc(word_vec_list, doc_vec_list):\n",
        "  answer = []\n",
        "  is_first = 0\n",
        "  for doc_vec in doc_vec_list:\n",
        "    for num, word_vec in enumerate(word_vec_list):\n",
        "      if is_first == 0:\n",
        "        answer.append([word_vec[0], cos_sim(doc_vec, word_vec[1])])\n",
        "      else:\n",
        "        answer[num][1] += cos_sim(doc_vec, word_vec[1])\n",
        "    is_first = 1\n",
        "  answer = sorted(answer, key = lambda x: x[1], reverse = True)\n",
        "\n",
        "  return answer"
      ],
      "metadata": {
        "id": "C6x7ncheyEIg"
      },
      "execution_count": null,
      "outputs": []
    },
    {
      "cell_type": "code",
      "source": [
        "#10위까지 겹치는 단어 없이 (단어, 유사도) 출력\n",
        "def get_sim_top10(answer, cnt, compare_doc_cnt):\n",
        "  answerList = []\n",
        "  num = 0\n",
        "  i = -1\n",
        "  while num < 10:\n",
        "    i += 1\n",
        "    if i >= cnt: break;\n",
        "    if answer[i] in answerList:\n",
        "      continue\n",
        "    answer[i][1] /= compare_doc_cnt\n",
        "    answerList.append(answer[i])\n",
        "    num += 1;\n",
        "  return answerList"
      ],
      "metadata": {
        "id": "RD_ukIGh0fHz"
      },
      "execution_count": null,
      "outputs": []
    },
    {
      "cell_type": "code",
      "source": [
        "#비교 문서 벡터 리스트 가져오기\n",
        "\n",
        "import pickle\n",
        "\n",
        "compare_vec_list = []\n",
        "\n",
        "with open(\"/content/drive/MyDrive/phishing_vec_list.pkl\",\"rb\") as f:\n",
        "    compare_vec_list = pickle.load(f)\n",
        "\n",
        "#비교 문서 지정 정해야 할 것 -> 일단 다 비교에 사용하고 느리면 변경\n"
      ],
      "metadata": {
        "id": "l9Z5Fa47ICTY"
      },
      "execution_count": null,
      "outputs": []
    },
    {
      "cell_type": "code",
      "source": [
        "#데이터 받기\n",
        "input_doc = \"자기가 어느 지방 검찰청의 검사라고 소개하더니 빨리 나오지 않으면 징역을 살거라고 겁을 줬다. 그래서 알았다고 했는데 의심되면 인터넷에 검색해보라고도 했다. 내 통장이 범죄의 대포통장으로 쓰였다고 한다. 그러더니 돈을 달라고 요구했다. 계좌 비밀번호를 요구했음\"\n"
      ],
      "metadata": {
        "id": "AtL6s12H09Xy"
      },
      "execution_count": null,
      "outputs": []
    },
    {
      "cell_type": "code",
      "source": [
        "#입력 문서 전처리\n",
        "tokenized_data = preprocessing(input_doc)\n",
        "\n",
        "#토큰화된 입력문서 벡터화\n",
        "word_vec_list = to_vec(tokenized_data)\n",
        "\n",
        "#단어 벡터 수\n",
        "vec_cnt = len(word_vec_list)\n",
        "\n",
        "#입력문서 평균 벡터 구하기\n",
        "input_vec = get_document_vec(word_vec_list)"
      ],
      "metadata": {
        "colab": {
          "base_uri": "https://localhost:8080/"
        },
        "id": "dU3WouL61Kg7",
        "outputId": "299ce381-1f6c-4e0f-9576-ec3879b03e45"
      },
      "execution_count": null,
      "outputs": [
        {
          "output_type": "stream",
          "name": "stderr",
          "text": [
            "100%|██████████| 1/1 [00:00<00:00, 17.75it/s]\n"
          ]
        }
      ]
    },
    {
      "cell_type": "code",
      "source": [
        "is_phishing = 0 #보이스피싱 의심 여부 (0: N, 1: Y)\n",
        "mean_sim = 0 #평균 유사도\n",
        "\n",
        "#코사인 유사도 평균 구하기\n",
        "for doc_vec in compare_vec_list:\n",
        "  if input_vec is not None:\n",
        "    doc_sim = cos_sim(input_vec, doc_vec)\n",
        "  mean_sim += doc_sim\n",
        "\n",
        "mean_sim /= len(compare_vec_list)\n",
        "\n",
        "#0.7 이상이면 보이스피싱 의심 단어 상위 10개 출력\n",
        "if mean_sim >= 0.7:\n",
        "    is_phishing = 1\n",
        "    words_sim = m_cos_word_doc(word_vec_list, compare_vec_list)\n",
        "    words_sim_top10 = get_sim_top10(words_sim, vec_cnt, len(compare_vec_list))\n",
        "    print(words_sim_top10)\n",
        "\n",
        "print(\"보이스피싱 의심 여부:\", is_phishing, mean_sim)"
      ],
      "metadata": {
        "id": "mHH8YiGR90EA",
        "colab": {
          "base_uri": "https://localhost:8080/"
        },
        "outputId": "4738d84d-f2ed-4ee1-d9e6-038dae55a79d"
      },
      "execution_count": null,
      "outputs": [
        {
          "output_type": "stream",
          "name": "stdout",
          "text": [
            "[['그렇다', 0.7209344713721564], ['그래서', 0.6944007428715516], ['나오다', 0.6490126707161583], ['알다', 0.6364001012167274], ['되다', 0.6032214697340044], ['않다', 0.5720507428705047], ['돈', 0.5268249159189258], ['계좌', 0.4903354396707888], ['통장', 0.46044993452699884], ['주다', 0.4283504725109588]]\n",
            "보이스피싱 의심 여부: 1 0.8002348304231182\n"
          ]
        }
      ]
    },
    {
      "cell_type": "code",
      "source": [
        "#결과 전송\n",
        "\n",
        "#보내야 할 데이터: 보이스피싱 의심 여부랑 소수점 첫째자리까지 반올림한 유사도, 70%이상이면 의심 단어 10개까지"
      ],
      "metadata": {
        "id": "6dJqI3Fc3it0"
      },
      "execution_count": null,
      "outputs": []
    },
    {
      "cell_type": "code",
      "source": [],
      "metadata": {
        "id": "BsWIQMcuteRT"
      },
      "execution_count": null,
      "outputs": []
    }
  ]
}